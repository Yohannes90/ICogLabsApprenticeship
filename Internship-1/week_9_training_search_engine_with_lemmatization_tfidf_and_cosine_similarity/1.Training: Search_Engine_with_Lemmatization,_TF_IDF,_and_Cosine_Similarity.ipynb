{
  "nbformat": 4,
  "nbformat_minor": 0,
  "metadata": {
    "colab": {
      "provenance": []
    },
    "kernelspec": {
      "name": "python3",
      "display_name": "Python 3"
    },
    "language_info": {
      "name": "python"
    }
  },
  "cells": [
    {
      "cell_type": "code",
      "execution_count": 94,
      "metadata": {
        "id": "i_gej3kyIj_i"
      },
      "outputs": [],
      "source": [
        "import re\n",
        "import string\n",
        "import numpy as np\n",
        "import pandas as pd\n",
        "from sklearn.feature_extraction.text import TfidfVectorizer\n",
        "import nltk\n",
        "import spacy\n",
        "from nltk.corpus import stopwords\n",
        "from nltk.stem import WordNetLemmatizer"
      ]
    },
    {
      "cell_type": "code",
      "source": [
        "nltk.download(\"stopwords\")\n",
        "nltk.download('punkt_tab')"
      ],
      "metadata": {
        "colab": {
          "base_uri": "https://localhost:8080/"
        },
        "id": "H7e4NVbyZUQ1",
        "outputId": "89059921-0dfa-41c3-d712-2f16782e7d84"
      },
      "execution_count": 95,
      "outputs": [
        {
          "output_type": "stream",
          "name": "stderr",
          "text": [
            "[nltk_data] Downloading package stopwords to /root/nltk_data...\n",
            "[nltk_data]   Package stopwords is already up-to-date!\n",
            "[nltk_data] Downloading package punkt_tab to /root/nltk_data...\n",
            "[nltk_data]   Package punkt_tab is already up-to-date!\n"
          ]
        },
        {
          "output_type": "execute_result",
          "data": {
            "text/plain": [
              "True"
            ]
          },
          "metadata": {},
          "execution_count": 95
        }
      ]
    },
    {
      "cell_type": "code",
      "source": [
        "english_stopset = set(stopwords.words('english')).union(\n",
        "                  {\"things\", \"that's\", \"something\", \"take\", \"don't\", \"may\", \"want\", \"you're\",\n",
        "                   \"set\", \"might\", \"says\", \"including\", \"lot\", \"much\", \"said\", \"know\",\n",
        "                   \"good\", \"step\", \"often\", \"going\", \"thing\", \"things\", \"think\",\n",
        "                   \"back\", \"actually\", \"better\", \"look\", \"find\", \"right\", \"example\",\n",
        "                                                                  \"verb\", \"verbs\"})\n"
      ],
      "metadata": {
        "id": "m7aKjX-sZ7ZZ"
      },
      "execution_count": 96,
      "outputs": []
    },
    {
      "cell_type": "code",
      "source": [
        "docs = ['i loved you ethiopian, stored elements in Compress find Sparse Ethiopia is the greatest country in the world of nation at universe',\n",
        "\n",
        "        'also, sometimes, the same words can have multiple different ‘lemma’s. So, based on the context it’s used, you should identify the \\\n",
        "        part-of-speech (POS) tag for the word in that specific context and extract the appropriate lemma. Examples of implementing this comes \\\n",
        "        in the following sections countries.ethiopia With a planned.The name that the Blue Nile river loved took in Ethiopia is derived from the \\\n",
        "        Geez word for great to imply its being the river of rivers The word Abay still exists in ethiopia major languages',\n",
        "\n",
        "        'With more than  million people, ethiopia is the second most populous nation in Africa after Nigeria, and the fastest growing \\\n",
        "         economy in the region. However, it is also one of the poorest, with a per capita income',\n",
        "\n",
        "        'The primary purpose of the dam ethiopia is electricity production to relieve Ethiopia’s acute energy shortage and for electricity export to neighboring\\\n",
        "         countries.ethiopia With a planned.',\n",
        "\n",
        "        'The name that the Blue Nile river loved takes in Ethiopia \"abay\" is derived from the Geez blue loved word for great to imply its being the river of rivers The \\\n",
        "         word Abay still exists in Ethiopia major languages to refer to anything or anyone considered to be superior.',\n",
        "\n",
        "        'Two non-upgraded loved turbine-generators with MW each are the first loveto go into operation with loved MW delivered to the national power grid. This early power\\\n",
        "         generation will start well before the completion']\n",
        "\n",
        "title = ['Two upgraded', 'Loved Turbine-Generators', 'Operation With Loved', 'National', 'Power Grid', 'Generator']\n",
        "\n",
        "keywords = ['two','non','loved','ethiopia','operation','grid','power','fight','survive']  #we can generate keywords from articls using 'spacy'"
      ],
      "metadata": {
        "id": "xAlA4br4aP-X"
      },
      "execution_count": 97,
      "outputs": []
    },
    {
      "cell_type": "code",
      "source": [
        "documents_clean = []\n",
        "documents_cleant = []"
      ],
      "metadata": {
        "id": "pNiL0UfbXWfK"
      },
      "execution_count": 98,
      "outputs": []
    },
    {
      "cell_type": "code",
      "source": [
        "for d in docs:\n",
        "    document_test = re.sub(r'[^\\x00-\\x7F]+', ' ', d)  #Replace non-ASCII characters with space\n",
        "    document_test = re.sub(r'@\\w+', '', document_test)  #eliminate duplicate whitespaces/ # Remove Mentions\n",
        "    document_test = document_test.lower() #converting to lower\n",
        "    document_test = re.sub(r'[%s]' % re.escape(string.punctuation), ' ', document_test) #cleaning punctuation\n",
        "    document_test = re.sub(r'[0-9]', '', document_test) #replacing number with empity string\n",
        "    document_test = re.sub(r'\\s{2,}', ' ', document_test)  # Remove the doubled space\n",
        "    documents_clean.append(document_test)\n",
        "    documents_cleant.append(document_test)\n",
        "\n",
        "lemmer=WordNetLemmatizer()\n",
        "new_docs=[' '.join([lemmer.lemmatize(docs) for docs in text.split(',')]) for text in docs]  #Lemmatization the words/description\n",
        "titles = [' '.join([lemmer.lemmatize(title).strip() for title in text.split(' ')]) for text in title]   #Lemmatization the title\n",
        "\n",
        "#better than https://www.machinelearningplus.com/nlp/lemmatization-examples-python/"
      ],
      "metadata": {
        "id": "MRW69YucbaPa"
      },
      "execution_count": 99,
      "outputs": []
    },
    {
      "cell_type": "code",
      "source": [
        "english_stopset = list(stopwords.words('english'))"
      ],
      "metadata": {
        "id": "anA2g6ZQbzlF"
      },
      "execution_count": 100,
      "outputs": []
    },
    {
      "cell_type": "code",
      "source": [
        "vectorizer = TfidfVectorizer(analyzer='word',\n",
        "                              ngram_range=(1, 2),\n",
        "                              min_df=0.002,\n",
        "                              max_df=0.99,\n",
        "                              max_features=10000,\n",
        "                              lowercase=True,\n",
        "                              stop_words=english_stopset)"
      ],
      "metadata": {
        "id": "VE5xmvrpcAIW"
      },
      "execution_count": 101,
      "outputs": []
    },
    {
      "cell_type": "code",
      "source": [
        "X = vectorizer.fit_transform(new_docs)"
      ],
      "metadata": {
        "id": "xmwJekircqbe"
      },
      "execution_count": 102,
      "outputs": []
    },
    {
      "cell_type": "code",
      "source": [
        "# Create a DataFrame\n",
        "df = pd.DataFrame(X.T.toarray())\n",
        "print(df.head(10))\n",
        "print(df.shape)"
      ],
      "metadata": {
        "colab": {
          "base_uri": "https://localhost:8080/"
        },
        "id": "R6AmioMPdMTb",
        "outputId": "33095e36-5878-46a7-b236-4354c57097e9"
      },
      "execution_count": 103,
      "outputs": [
        {
          "output_type": "stream",
          "name": "stdout",
          "text": [
            "     0         1         2         3         4    5\n",
            "0  0.0  0.085345  0.000000  0.000000  0.233406  0.0\n",
            "1  0.0  0.000000  0.000000  0.000000  0.142318  0.0\n",
            "2  0.0  0.085345  0.000000  0.000000  0.116703  0.0\n",
            "3  0.0  0.000000  0.000000  0.173941  0.000000  0.0\n",
            "4  0.0  0.000000  0.000000  0.173941  0.000000  0.0\n",
            "5  0.0  0.000000  0.167583  0.000000  0.000000  0.0\n",
            "6  0.0  0.000000  0.167583  0.000000  0.000000  0.0\n",
            "7  0.0  0.085345  0.137421  0.000000  0.000000  0.0\n",
            "8  0.0  0.000000  0.167583  0.000000  0.000000  0.0\n",
            "9  0.0  0.104077  0.000000  0.000000  0.000000  0.0\n",
            "(231, 6)\n"
          ]
        }
      ]
    },
    {
      "cell_type": "code",
      "source": [
        "def get_similar_articles(q,t, df):\n",
        "  print(\"Done Searching. Full Result: \\n\")\n",
        "  print(\"searched items : \", q)\n",
        "  print(\"Article with the Highest Cosine Similarity Values: \")\n",
        "  search_rank ={}\n",
        "  top_results=5\n",
        "  q = [q]\n",
        "  t = [t]\n",
        "\n",
        "  q_vec = vectorizer.transform(q).toarray().reshape(df.shape[0],)\n",
        "  q_vect = vectorizer.transform(t).toarray().reshape(df.shape[0],)\n",
        "  sim = {}\n",
        "  titl = {}\n",
        "\n",
        "  for i in range(len(new_docs)) and range(len(titles)):\n",
        "    sim[i] = np.dot(df.loc[:, i].values, q_vec) / np.linalg.norm(df.loc[:, i]) * np.linalg.norm(q_vec)  #Calculate the similarity\n",
        "    # Or we can use cosine)similarity library both are the same\n",
        "    titl[i] = np.dot(df.loc[:, i].values, q_vect) / np.linalg.norm(df.loc[:, i]) * np.linalg.norm(q_vect)\n",
        "\n",
        "  sim_sorted = sorted(sim.items(),key=lambda x : x[1], reverse=True)[:min(len(sim), top_results)]\n",
        "  sim_sortedt = sorted(titl.items(),key=lambda x : x[1], reverse=True)[:min(len(titl), top_results)]\n",
        "\n",
        "\n",
        "  for i, v in sim_sorted and sim_sortedt:    # Print the articles and their similarity values\n",
        "    if v != 0.0:\n",
        "      print(\"Similaritas score: \", v)\n",
        "      zip(titles, new_docs)\n",
        "      print(titles[i])\n",
        "      print(new_docs[i])\n",
        "      print('\\n')\n",
        "\n",
        "lemma_ops = 'million people'\n",
        "#q1 = 'electrical productions'\n",
        "list1 = nltk.word_tokenize(lemma_ops)\n",
        "q1 = ' '.join([lemmer.lemmatize(lemma_ops) for lemma_ops in list1])\n",
        "\n",
        "get_similar_articles(q1,q1, df)\n",
        "print('-'*100)"
      ],
      "metadata": {
        "colab": {
          "base_uri": "https://localhost:8080/"
        },
        "id": "VF4hYZtpdTHX",
        "outputId": "fcad8132-59ce-404b-b6a9-86e395afaf98"
      },
      "execution_count": 107,
      "outputs": [
        {
          "output_type": "stream",
          "name": "stdout",
          "text": [
            "Done Searching. Full Result: \n",
            "\n",
            "searched items :  million people\n",
            "Article with the Highest Cosine Similarity Values: \n",
            "Similaritas score:  0.2902625120156729\n",
            "Operation With Loved\n",
            "With more than  million people  ethiopia is the second most populous nation in Africa after Nigeria  and the fastest growing          economy in the region. However  it is also one of the poorest  with a per capita income\n",
            "\n",
            "\n",
            "----------------------------------------------------------------------------------------------------\n"
          ]
        }
      ]
    },
    {
      "cell_type": "code",
      "source": [
        "lemma_ops = 'loved'\n",
        "#q1 = 'electrical productions'\n",
        "list1 = nltk.word_tokenize(lemma_ops)\n",
        "q1 = ' '.join([lemmer.lemmatize(lemma_ops) for lemma_ops in list1])\n",
        "\n",
        "get_similar_articles(q1,q1, df)\n",
        "print('-'*100)"
      ],
      "metadata": {
        "id": "zmqapg2rYitX",
        "outputId": "9034f948-edeb-412c-f31c-9a984594a15a",
        "colab": {
          "base_uri": "https://localhost:8080/"
        }
      },
      "execution_count": 108,
      "outputs": [
        {
          "output_type": "stream",
          "name": "stdout",
          "text": [
            "Done Searching. Full Result: \n",
            "\n",
            "searched items :  loved\n",
            "Article with the Highest Cosine Similarity Values: \n",
            "Similaritas score:  0.17053622712109406\n",
            "Generator\n",
            "Two non-upgraded loved turbine-generators with MW each are the first loveto go into operation with loved MW delivered to the national power grid. This early power         generation will start well before the completion\n",
            "\n",
            "\n",
            "Similaritas score:  0.16886292272057762\n",
            "Power Grid\n",
            "The name that the Blue Nile river loved takes in Ethiopia \"abay\" is derived from the Geez blue loved word for great to imply its being the river of rivers The          word Abay still exists in Ethiopia major languages to refer to anything or anyone considered to be superior.\n",
            "\n",
            "\n",
            "Similaritas score:  0.12293880581908309\n",
            "Two upgraded\n",
            "i loved you ethiopian  stored elements in Compress find Sparse Ethiopia is the greatest country in the world of nation at universe\n",
            "\n",
            "\n",
            "Similaritas score:  0.06174486651111567\n",
            "Loved Turbine-Generators\n",
            "also  sometimes  the same words can have multiple different ‘lemma’s. So  based on the context it’s used  you should identify the         part-of-speech (POS) tag for the word in that specific context and extract the appropriate lemma. Examples of implementing this comes         in the following sections countries.ethiopia With a planned.The name that the Blue Nile river loved took in Ethiopia is derived from the         Geez word for great to imply its being the river of rivers The word Abay still exists in ethiopia major languages\n",
            "\n",
            "\n",
            "----------------------------------------------------------------------------------------------------\n"
          ]
        }
      ]
    },
    {
      "cell_type": "code",
      "source": [
        "lemma_ops = 'love'\n",
        "#q1 = 'electrical productions'\n",
        "list1 = nltk.word_tokenize(lemma_ops)\n",
        "q1 = ' '.join([lemmer.lemmatize(lemma_ops) for lemma_ops in list1])\n",
        "\n",
        "get_similar_articles(q1,q1, df)\n",
        "print('-'*100)"
      ],
      "metadata": {
        "colab": {
          "base_uri": "https://localhost:8080/"
        },
        "id": "bnM25eGwWgzu",
        "outputId": "8bf02b17-698e-475a-8e1a-8f579fb9c437"
      },
      "execution_count": 109,
      "outputs": [
        {
          "output_type": "stream",
          "name": "stdout",
          "text": [
            "Done Searching. Full Result: \n",
            "\n",
            "searched items :  love\n",
            "Article with the Highest Cosine Similarity Values: \n",
            "----------------------------------------------------------------------------------------------------\n"
          ]
        }
      ]
    },
    {
      "cell_type": "code",
      "source": [],
      "metadata": {
        "id": "1iLII_TQYqJi"
      },
      "execution_count": null,
      "outputs": []
    }
  ]
}